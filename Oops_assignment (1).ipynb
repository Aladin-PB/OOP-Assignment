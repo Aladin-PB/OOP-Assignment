{
  "nbformat": 4,
  "nbformat_minor": 0,
  "metadata": {
    "colab": {
      "provenance": []
    },
    "kernelspec": {
      "name": "python3",
      "display_name": "Python 3"
    },
    "language_info": {
      "name": "python"
    }
  },
  "cells": [
    {
      "cell_type": "markdown",
      "source": [
        "# Python OOPS assignment"
      ],
      "metadata": {
        "id": "2PUjAq7ea1DX"
      }
    },
    {
      "cell_type": "markdown",
      "source": [
        "1. What is Object-Oriented programming language ?\n",
        "- Ans : Object-oriented programming (OOP) is a style of programming characterized by the identification of classes of objects closely linked with the methods (functions) with which they are associated. It also includes ideas of inheritance of attributes and methods. It is a technique based on a mathematical discipline, called “abstract data types,” for storing data with the procedures needed to process that data. OOP offers the potential to evolve programming to a higher level of abstraction.\n",
        "\n",
        "2. What is class in OOP?\n",
        "- Ans : In Python, a class is a blueprint for creating objects, which are instances of the class. It's a fundamental concept in object-oriented programming (OOP) that allows you to bundle data (attributes) and methods (functions) that operate on that data into a single unit. Classes provide a way to define the structure and behavior of objects.\n",
        "       \n",
        "       #syntax of class\n",
        "\n",
        "          class Class_name:\n",
        "            \"\"\"Doc String\"\"\"\n",
        "            statement 1\n",
        "            statement 2\n",
        "            ..............\n",
        "\n",
        "3. What is Object in OOP ?\n",
        "- Ans : In Python, an object is a fundamental concept in object-oriented programming (OOP). It is an instance of a class, which is a blueprint for creating objects. Objects encapsulate data (attributes) and behavior (methods) into a single entity. Everything in Python is an object, including numbers, strings, lists, and functions.\n",
        "\n",
        "- Ex.\n",
        "        \n",
        "          class Dog:\n",
        "             def __init__(self, name, breed):\n",
        "                self.name = name\n",
        "                self.breed = breed\n",
        "\n",
        "            def bark(self):\n",
        "                return \"Woof!\"\n",
        "\n",
        "          my_dog = Dog(\"Cheeku\", \"Husky\")\n",
        "          print(my_dog.name)  \n",
        "          print(my_dog.bark())\n",
        "\n",
        "          o/p = Cheeku\n",
        "                Woof!"
      ],
      "metadata": {
        "id": "US7k2oWEbKGR"
      }
    },
    {
      "cell_type": "markdown",
      "source": [
        "4. What is the difference between Abstraction and Encapsulation ?\n",
        "- Ans : Abstraction is process of hiding the implementation details and showing only the functionality to the users.Main feature: reduce complexity, promote maintainability, and also provide clear separation between the interface and its concrete implementation.\n",
        "\n",
        "- Encapsulation is a process of binding data and methods together in a single unit, providing controlled access to data. Main feature: data hiding, providing access control and modularity.\n",
        "\n",
        "- In abstraction, problems are solved at the design or interface level. While in encapsulation, problems are solved at the implementation level.\n",
        "\n",
        "- We can implement abstraction using abstract class and interfaces.\tWhereas encapsulation can be implemented using by access modifier i.e. private, protected and public and nested classes.\n",
        "\n",
        "- In abstraction, implementation complexities are hidden using abstract classes and interfaces.\tWhile encapsulation uses private access modifier to hide the data and use getter and setter to provide controlled access to data.\n",
        "\n",
        "- The objects that help to perform abstraction are encapsulated.\tWhereas the objects that result in encapsulation need not be abstracted.\n",
        "\n",
        "- Abstraction provides access to specific part of data.\tEncapsulation hides data, preventing the users from directly accessing it, (providing controlled access) which is also known as data hiding.\n",
        "\n",
        "- Abstraction focuses on \"what\" the object does .\tEncapsulation focuses on \"How\" the object does it.\n",
        "\n",
        "- Abstraction Example: CAR - the driver of the car only needs to know how to drive it. Not how its engine and the gear box and other internal components work.\n",
        "\n",
        "- Encapsilation Example: A bank can be thought of as a fully encapsulated class that provides access to the customers through various methods (getters and setters). Rest of the data inside bank is hidden to protect from outside world."
      ],
      "metadata": {
        "id": "ehZdFlMmfhlJ"
      }
    },
    {
      "cell_type": "markdown",
      "source": [
        "5. What are dunder method in Python ?\n",
        "- Ans : Dunder methods, also known as magic methods, are special methods in Python that begin and end with double underscores (e.g., __init__, __str__, __len__). They provide a way to define how objects of a class should behave with built-in operators and functions. Dunder is short for \"double underscore\".\n",
        "These methods enable operator overloading, allowing you to define custom behavior for operators like +, -, *, /, ==, etc., when applied to objects of your class. They also allow you to customize how built-in functions like len(), str(), repr(), and indexing work with your objects.\n",
        "\n",
        "- __Some common dunder methods are:__\n",
        "   -  `__init__`\n",
        "   - `__str__`\n",
        "   - `__repr__`\n",
        "   - `__add__`\n",
        "   - `__len__`\n",
        "\n",
        "\n",
        "6. Explain the concept of inheritance in OOPS?\n",
        "- Ans : Inheritance is a fundamental concept in object-oriented programming (OOP) that allows a class (called a child or derived class) to inherit attributes and methods from another class (called a parent or base class). This promotes code reuse, modularity, and a hierarchical class structure.\n",
        "- Ex.\n",
        "      \n",
        "            def __init__(self, name):\n",
        "                self.name = name\n",
        "\n",
        "            def speak(self):\n",
        "                return \"Generic animal sound\"\n",
        "\n",
        "            class Dog(Animal):\n",
        "            def __init__(self, name, breed):\n",
        "                super().__init__(name)\n",
        "                self.breed = breed\n",
        "\n",
        "            def speak(self):\n",
        "                return \"Woof!\"\n",
        "\n",
        "            my_dog = Dog(\"Buddy\", \"Golden Retriever\")\n",
        "            print(my_dog.name)  # Output: Buddy\n",
        "            print(my_dog.breed) # Output: Golden Retriever\n",
        "            print(my_dog.speak()) # Output: Woof!"
      ],
      "metadata": {
        "id": "v6LaYbxPjzAC"
      }
    },
    {
      "cell_type": "markdown",
      "source": [
        "7. What is polymorphism in OOPS\n",
        "- Ans : Polymorphism, derived from the Greek words \"poly\" (many) and \"morph\" (form), refers to the ability of an object to take on many forms. In Python, this concept allows you to use a single interface to represent different types, enabling code to be more flexible and reusable.\n",
        "\n",
        "- **Here are key aspects of polymorphism in Python:**\n",
        "1. **Method Overriding:**\n",
        "A child class can provide a specific implementation of a method that is already defined in its parent class.\n",
        "When the method is called on an instance of the child class, the child's version of the method is executed.\n",
        "2. **Operator Overloading:**\n",
        "Python allows you to define how operators like +, -, * etc. behave when used with objects of your custom classes.\n",
        "This allows you to write code that is more intuitive and natural.\n",
        "3. **Duck Typing:**\n",
        "Python uses duck typing, which means that the type of an object is less important than the methods it supports.\n",
        "If an object has a method that is called, it will work, regardless of the type of the object.\n",
        "4. **Built-in Polymorphism:**\n",
        "Many built-in Python functions exhibit polymorphism.\n",
        "For example, the len() function can be used to find the length of a string, list, tuple, dictionary, etc.\n",
        "\n",
        "- Ex.\n",
        "\n",
        "                  class Animal:\n",
        "                      def speak(self):\n",
        "                          print(\"Generic animal sound\")\n",
        "\n",
        "                  class Dog(Animal):\n",
        "                      def speak(self):\n",
        "                          print(\"Woof!\")\n",
        "\n",
        "                  class Cat(Animal):\n",
        "                      def speak(self):\n",
        "                          print(\"Meow!\")\n",
        "\n",
        "                  animals = [Dog(), Cat(), Animal()]\n",
        "                  for animal in animals:\n",
        "                      animal.speak()\n",
        "\n",
        "                  o/p = Woof!\n",
        "                        Meow!\n",
        "                        Generic animal sound"
      ],
      "metadata": {
        "id": "m9MCpExyzyjS"
      }
    },
    {
      "cell_type": "markdown",
      "source": [
        "8. How encapsulation achieved in Python?\n",
        "- Ans: In Python, encapsulation refers to the bundling of data (attributes) and methods (functions) that operate on the data into a single unit, typically a class. It also restricts direct access to some components, which helps protect the integrity of the data and ensures proper usage.\n",
        "- Python achieves encapsulation through public, protected and private attributes.\n",
        "- **Public**: Members are accessible from anywhere. By default, all attributes and methods are public.\n",
        "-**Protected**:Members are intended for internal use within the class and its subclasses. They are indicated by a single underscore prefix (e.g., _attribute). However, they can still be accessed from outside the class, although it's not recommended.\n",
        "- **Private**:Members are intended to be accessed only within the class. They are indicated by a double underscore prefix (e.g., __attribute). Python implements name mangling for private members, making them harder to access directly from outside the class.\n",
        "\n",
        "- Ex for public members\n",
        "              class Student:\n",
        "                  schoolName = 'XYZ School'\n",
        "\n",
        "                  def __init__(self, name, age):\n",
        "                      self.name=name\n",
        "                      self.age=age\n",
        "                \n",
        "              std = Student(\"Steve\", 25)\n",
        "              print(std.schoolName)\n",
        "              print(std.name)\n",
        "              std.age = 20\n",
        "              print(std.age)\n",
        "\n",
        "              o/p = XYZ School\n",
        "                    Steve\n",
        "                    20\n",
        "\n",
        "- Ex for protected members\n",
        "\n",
        "              class Student:\n",
        "                  _schoolName = 'XYZ School' # protected class attribute\n",
        "                  def __init__(self, name, age):\n",
        "                      self._name=name  \n",
        "                      self._age=age     \n",
        "              std = Student(\"Swati\", 25)\n",
        "              print(std._name)  \n",
        "              std._name = 'Dipa'\n",
        "              print(std._name)  \n",
        "              o/p = Swati\n",
        "                    Dipa\n",
        "\n",
        "- Ex for priate members\n",
        "\n",
        "              class Student:\n",
        "                  __schoolName = 'XYZ School' # private class attribute\n",
        "                  def __init__(self, name, age):\n",
        "                      self.__name=name  \n",
        "                      self.__salary=age\n",
        "                  def __display(self):  # private method\n",
        "                    print('This is private method.')\n",
        "\n",
        "              std = Student(\"Bill\", 25)\n",
        "              print(std.__schoolName)\n",
        "              print(std.__name)   \n",
        "              print(std.__display())\n",
        "\n",
        "              o/p = AttributeError: 'Student' object has no attribute '__schoolName'"
      ],
      "metadata": {
        "id": "nIgORcxu6WLw"
      }
    },
    {
      "cell_type": "markdown",
      "source": [
        "9. What is constructor in Python ?\n",
        "- Ans:  In Python, a constructor is a special method within a class that is automatically called when an object/instance of that class is created. The primary purpose of a constructor is to initialize the attributes (data members) of the new object.\n",
        "In Python, the constructor method is named __init__. It takes self as the first parameter, which refers to the instance of the object being created. Additional parameters can be included to initialize the object with specific values.\n",
        "- Ex.\n",
        "            class MyClass:\n",
        "                def __init__(self, arg1, arg2):\n",
        "                    self.attribute1 = arg1\n",
        "                    self.attribute2 = arg2\n",
        "\n",
        "            ''' Creating an object of MyClass'''\n",
        "            obj = MyClass(\"value1\", \"value2\")\n",
        "\n",
        "            print(obj.attribute1)  \n",
        "            print(obj.attribute2)\n",
        "            o/p = value1\n",
        "                  value2\n",
        "- __Types of constructor:__\n",
        "    - __Default constructor:__ If no constructor is defined, Python will provide a default constructor.\n",
        "    - __Non-Parametrized constructor:__ Non-parameterized constructors are those that take no parameters.\n",
        "    - __Parametrized constructor:__ A parameterized constructor is one with specified arguments or parameters."
      ],
      "metadata": {
        "id": "1Bo4iIKjT8B1"
      }
    },
    {
      "cell_type": "markdown",
      "source": [
        "10. What are class and static methods in Python ?\n",
        "- Ans: **Class Methods ** : A class method is a method that is bound to the class and not the object of the class.\n",
        "They have the access to the state of the class as it takes a class parameter that points to the class and not the object instance.\n",
        "It can modify a class state that would apply across all the instances of the class. For example, it can modify a class variable that will be applicable to all the instances. They are defined using the @classmethod decorator.\n",
        "- Syntax :\n",
        "          class C(object):\n",
        "              @classmethod\n",
        "              def fun(cls, arg1, arg2, ...):\n",
        "                ....\n",
        "          fun: function that needs to be converted into a class method\n",
        "          returns: a class method for function.\n",
        "\n",
        "- **Static Method** : A static method is also a method that is bound to the class and not the object of the class. This method can't access or modify the class state. It is present in a class because it makes sense for the method to be present in class.A static method does not receive an implicit first argument.\n",
        "- Syntax :\n",
        "              class C(object):\n",
        "                @staticmethod\n",
        "                def fun(arg1, arg2, ...):\n",
        "                    ...\n",
        "              returns: a static method for function fun.\n",
        "\n"
      ],
      "metadata": {
        "id": "_uErB88SU69v"
      }
    },
    {
      "cell_type": "markdown",
      "source": [
        "11. What is method overloading in Python?\n",
        "- Ans : Two or more methods have the same name but different numbers of parameters or different types of parameters, or both. These methods are called overloaded methods and this is called method overloading.\n",
        "\n",
        "          #Example\n",
        "\n",
        "            class Calculator:\n",
        "              def add(self, *args):\n",
        "                  result = 0\n",
        "                  for num in args:\n",
        "                      result += num\n",
        "                  return result\n",
        "\n",
        "            calc = Calculator()\n",
        "            print(calc.add(2, 3))  # Output: 5\n",
        "            print(calc.add(1, 2, 3, 4))  # Output: 10"
      ],
      "metadata": {
        "id": "wnqqt70k2gxo"
      }
    },
    {
      "cell_type": "markdown",
      "source": [
        "12. What is method overriding in OOP?\n",
        "- Method overriding is an ability of any object-oriented programming language that allows a subclass or child class to provide a specific implementation of a method that is already provided by one of its super-classes or parent classes.\n",
        "\n",
        "          #Example\n",
        "            class Animal:\n",
        "              def make_sound(self):\n",
        "                  print(\"Generic animal sound\")\n",
        "\n",
        "            class Dog(Animal):\n",
        "              def make_sound(self):\n",
        "                  print(\"Woof!\")\n",
        "\n",
        "            # Create an object of the Dog class\n",
        "            my_dog = Dog()\n",
        "\n",
        "            # Call the make_sound() method on the Dog object\n",
        "            my_dog.make_sound()  \n",
        "            o/p : Woof!"
      ],
      "metadata": {
        "id": "Cz9OsfL-3mJP"
      }
    },
    {
      "cell_type": "markdown",
      "source": [
        " 13.What is a property decorator in Python?\n",
        " - Ans: The @property decorator in Python is a built-in feature that allows you to define methods that can be accessed like attributes. It provides a way to manage how attributes are accessed and modified, offering better control and encapsulation. It simplifies code by allowing you to access attributes using dot notation, instead of calling getter and setter methods.\n",
        " - Ex.\n",
        "   \n",
        "            class Circle:\n",
        "                def __init__(self, radius):\n",
        "                    self._radius = radius\n",
        "\n",
        "                @property\n",
        "                def radius(self):\n",
        "                    \"\"\"Getter for radius.\"\"\"\n",
        "                    return self._radius\n",
        "\n",
        "                @radius.setter\n",
        "                def radius(self, value):\n",
        "                    \"\"\"Setter for radius with validation.\"\"\"\n",
        "                    if value < 0:\n",
        "                        raise ValueError(\"Radius cannot be negative\")\n",
        "                    self._radius = value\n",
        "\n",
        "                @radius.deleter\n",
        "                def radius(self):\n",
        "                    \"\"\"Deleter for radius.\"\"\"\n",
        "                    print(\"Radius deleted\")\n",
        "                    del self._radius\n",
        "\n",
        "            # Usage\n",
        "            c = Circle(5)\n",
        "            print(c.radius)  # Accessing radius using getter\n",
        "            c.radius = 10  # Setting radius using setter\n",
        "            print(c.radius)\n",
        "            del c.radius # Deleting radius using deleter\n"
      ],
      "metadata": {
        "id": "Qfh4k1Yj4hDl"
      }
    },
    {
      "cell_type": "markdown",
      "source": [
        "14. Why is polymorphism important in OOP?\n",
        "- Ans: Polymorphism is a core concept in Object-Oriented Programming (OOP) that enables a single interface or method to operate differently based on the object it is acting upon.\n",
        "\n",
        "- __Importance of polymorphism:__\n",
        "\n",
        "    - __Code Reusability:__ This reduces code duplication and enhances reusability.\n",
        "    - __Flexibility and Extensibility:__ This makes it easier to extend and maintain systems over time.\n",
        "    - __Simplified Code:__ Polymorphism simplifies code by allowing developers to use common interfaces for different types, which leads to cleaner and more readable code.\n",
        "    - __Dynamic Behavior:__ Polymorphism supports dynamic method invocation enabling decisions to be made at runtime about which method to call."
      ],
      "metadata": {
        "id": "j-gAetQb7RZ8"
      }
    },
    {
      "cell_type": "markdown",
      "source": [
        "15. What is an abstract class in Python?\n",
        "- An abstract class is a class that cannot be instantiated directly. It serves as a blueprint or template for other classes, defining a common interface and enforcing a specific structure."
      ],
      "metadata": {
        "id": "QFTkIwE77bYs"
      }
    },
    {
      "cell_type": "markdown",
      "source": [
        "16. What are the advantages of OOP?\n",
        "-Ans:  The advantages of OOPs are:\n",
        "\n",
        "- **Reusability**: This promotes code reuse, reducing development time and effort.\n",
        "- **Flexibility**: This makes the code more adaptable to changes and easier to extend with new features.\n",
        "- **Improved Code Readability**: OOP promotes a more organized and structured approach to coding, making it easier for developers to understand and maintain the codebase.\n",
        "- **Collaboration**: OOP facilitates collaboration among developers by providing a clear and well-defined structure for organizing code.\n",
        "- **Real-World Modeling**:OOP allows you to model real-world entities and their relationships in a natural and intuitive way."
      ],
      "metadata": {
        "id": "0WXTod3A8cFZ"
      }
    },
    {
      "cell_type": "markdown",
      "source": [
        "17. What is the difference between a class variable and an instance variable?\n",
        "\n",
        "- **Class variable** :\n",
        "    - **Class Variables Shared among all instances**: Class variables are shared by all objects created from the same class.\n",
        "    - **Defined within the class:** They are defined within the class but outside any method.\n",
        "    - **Accessed using the class name**:Accessed using the class name followed by the dot operator like this:-  `ClassName.variable_name`\n",
        "\n",
        "-  **Instance variable**:\n",
        "\n",
        "    - Unique to each instance: Instance variables are specific to each object created from the class.\n",
        "    - **Defined within the constructor** : `__init__` __or other methods:__ Usually defined within the `__init__` method.\n",
        "    - **Accessed using the object name**: Accessed using the object name followed by the dot operator like this:- `object_name.variable_name`"
      ],
      "metadata": {
        "id": "bLKtLTVV9CdO"
      }
    },
    {
      "cell_type": "markdown",
      "source": [
        "18. What is multiple inheritance in Python?\n",
        "- Ans : In Multiple inheritance One child class may inherit from several parent classes when there is multiple inheritance.\n",
        "- Multiple inheritance allows classes to inherit and combine the behavior of multiple parent classes, providing flexibility in designing complex class hierarchies. However, it's important to carefully consider the design and\n",
        "potential complexities that can arise when using multiple inheritance.\n",
        "-Ex.\n",
        "                class Parent1:\n",
        "                    def method1(self):\n",
        "                        print(\"Method 1 from Parent1\")\n",
        "\n",
        "                class Parent2:\n",
        "                    def method2(self):\n",
        "                        print(\"Method 2 from Parent2\")\n",
        "\n",
        "                class Child(Parent1, Parent2):\n",
        "                    pass\n",
        "\n",
        "                child = Child()\n",
        "                child.method1()  # Output: Method 1 from Parent1\n",
        "                child.method2()  # Output: Method 2 from Parent2\n"
      ],
      "metadata": {
        "id": "nNLPEgKW-7Uc"
      }
    },
    {
      "cell_type": "markdown",
      "source": [
        "19.Explain the purpose of `__str__` and  `__repr__` methods in Python?\n",
        "- Ans: In Python, `__str__` and `__repr__` are dunder methods used to control how objects are represented as strings.\n",
        "    - `__str__`(self): This method is called when the str() function is used on an instance of the class. It should return a string representation of the object.\n",
        "\n",
        "            #example\n",
        "\n",
        "              class Myclass:\n",
        "                def __init__(self, x):\n",
        "                  self.x = x\n",
        "                def __str__(self):\n",
        "                  return f'Myclass instance with x = {self.x}'\n",
        "              obj = Myclass(10)\n",
        "              print(str(obj))\n",
        "            \n",
        "              o/p : Myclass instance with x = 10\n",
        "\n",
        "    - `__repr__`(self): This method is called when the repr() function is used on an instance of the class. It should return an unambiguous string representation of the object, which can be used to recreate the object.\n",
        "\n",
        "            #example\n",
        "\n",
        "              class Myclass:\n",
        "                def __init__(self, x):\n",
        "                  self.x = x\n",
        "                def __repr__(self):\n",
        "                  return f'Myclass ({self.x})'\n",
        "              obj = Myclass(10)\n",
        "              print(repr(obj))\n",
        "\n",
        "             o/p: Myclass (10)"
      ],
      "metadata": {
        "id": "uEFytodH_Gtw"
      }
    },
    {
      "cell_type": "markdown",
      "source": [
        "20. What is the significance of the `super()` function in Python?\n",
        "- Ans : The `super()` function is essential in Python for managing inheritance. It simplifies code, promotes reusability, and ensures proper initialization and method resolution in complex inheritance scenarios. It is particularly powerful in systems with multiple inheritance or dynamic class hierarchies.\n",
        "\n",
        "- **Benefits of super() function**:\n",
        "    - Accessing Parent Class Methods and Attributes\n",
        "    - Avoiding Explicit Parent Class Names\n",
        "    - Working with Multiple Inheritance\n",
        "    - Code Reusability"
      ],
      "metadata": {
        "id": "T2qyvUma_sNK"
      }
    },
    {
      "cell_type": "markdown",
      "source": [
        "21. What is the significance of the `__del__` method in Python?\n",
        "- Ans: The primary purpose of the __del__ method is to define cleanup operations that should be executed when an object is about to be destroyed.\n",
        "\n",
        "These operations might involve closing files, releasing database connections, deallocating memory, or freeing other external resources.\n",
        "\n",
        "- Called When Object is Destroyed:\n",
        "\n",
        "The __del__ method is automatically called when the reference count of an object reaches zero (i.e., when no more references to the object exist).\n",
        "\n",
        "In Python, the garbage collector is responsible for deallocating memory and removing objects when they are no longer needed.\n",
        "\n",
        "- Garbage Collection:\n",
        "\n",
        "Python uses automatic memory management through garbage collection, so you typically do not need to explicitly free memory. The __del__ method can be used for resource deallocation instead of memory management.\n",
        "\n",
        "It is important to note that you cannot predict exactly when the __del__ method will be called because it depends on the garbage collection mechanism.\n",
        "\n",
        "- Limited Use:\n",
        "\n",
        "The __del__ method is not commonly used in Python programs because Python's garbage collector typically handles memory management and resource cleanup automatically.\n",
        "\n",
        "However, it can still be useful when dealing with external resources like file handles, network sockets, or databases, where timely cleanup is required.\n",
        "\n",
        "- Potential Pitfalls:\n",
        "\n",
        "Circular References: If an object is involved in a circular reference, Python’s garbage collector might not immediately destroy it, which could delay the execution of the __del__ method.\n",
        "\n",
        "Exceptions in __del__: If an exception is raised inside the __del__ method, Python ignores it and does not propagate it. This means that any error that occurs in __del__ will not be reported.\n"
      ],
      "metadata": {
        "id": "S-W89iToAb5b"
      }
    },
    {
      "cell_type": "markdown",
      "source": [
        "22. What is the difference between `@staticmethod` and `@classmethod` in Python?\n",
        "- **@staticmethod:**\n",
        "\n",
        "  - **No Implicit First Argument**:It does not take any implicit first argument (like self or cls).\n",
        "  - **No Access to Class or Instance:** It cannot access or modify instance-level (self) or class-level (cls) data.\n",
        "  - **Utility Functions:** Primarily used for utility functions that logically belong to the class but don't need to access class or instance-specific data.\n",
        "  -** Inheritance:** Static methods can be inherited and overridden by subclasses.\n",
        "  - **Called on Class or Instance:** Can be called on both the class and its instances.\n",
        "\n",
        "- **@classmethod:**\n",
        "  - **Implicit First Argument (cls)**: It takes the class (cls) as the first argument.\n",
        "  - **Access to Class Data:** It has access to class-level data and can modify class-level attributes.\n",
        "  - **Alternative Constructors:** Often used for defining alternative constructors or methods that operate on the class rather than an instance.\n",
        "  - **Inheritance**: Class methods can be inherited and overridden by subclasses, and they will receive the subclass as cls when called from an instance.\n",
        "  - **Called on Class or Instance**: Can be called on both the class and its instances, but always receives the class as the first argument."
      ],
      "metadata": {
        "id": "I8SInW43AtnY"
      }
    },
    {
      "cell_type": "markdown",
      "source": [
        "23.  How does polymorphism work in Python with inheritance?\n",
        "- Ans: In Python, Polymorphism is a way of making a function accept objects of different classes if they behave similarly.\n",
        "\n",
        "- Different Ways to Implement Polymorphism in Python\n",
        "1. **Method Overriding:**\n",
        "A child class can provide a specific implementation of a method that is already defined in its parent class.\n",
        "When the method is called on an instance of the child class, the child's version of the method is executed.\n",
        "2. **Operator Overloading:**\n",
        "Python allows you to define how operators like +, -, * etc. behave when used with objects of your custom classes.\n",
        "This allows you to write code that is more intuitive and natural.\n",
        "3. **Duck Typing:**\n",
        "Python uses duck typing, which means that the type of an object is less important than the methods it supports.\n",
        "If an object has a method that is called, it will work, regardless of the type of the object.\n",
        "4. **Built-in Polymorphism:**\n",
        "Many built-in Python functions exhibit polymorphism.\n",
        "For example, the len() function can be used to find the length of a string, list, tuple, dictionary, etc."
      ],
      "metadata": {
        "id": "hifalJiyDPwG"
      }
    },
    {
      "cell_type": "markdown",
      "source": [
        "24. What is method chaining in Python OOP?\n",
        "-  Method chaining is a powerful technique in Python that allows you to call multiple methods on an object in a single, continuous line of code. This approach makes the code cleaner, more readable, and often easier to maintain.\n",
        "\n",
        "- __Benefits of method chaining in python are:__\n",
        "    - __Improved Readability__\n",
        "    - __Enhanced Fluency__\n",
        "    - __Reduced Boilerplate__\n",
        "\n",
        "              #Example\n",
        "\n",
        "                class Car:\n",
        "                    def __init__(self, color):\n",
        "                        self.color = color\n",
        "\n",
        "                    def start(self):\n",
        "                        print(\"Car started.\")\n",
        "                        return self  # Return the object itself\n",
        "\n",
        "                    def accelerate(self):\n",
        "                        print(\"Car accelerating.\")\n",
        "                        return self\n",
        "\n",
        "                    def brake(self):\n",
        "                        print(\"Car braking.\")\n",
        "                        return self\n",
        "\n",
        "                my_car = Car(\"red\")\n",
        "                my_car.start().accelerate().brake()\n",
        "\n",
        "              #output\n",
        "\n",
        "                Car started.\n",
        "                Car accelerating.\n",
        "                Car braking."
      ],
      "metadata": {
        "id": "Z-92X1Wn4ii_"
      }
    },
    {
      "cell_type": "markdown",
      "source": [
        "25. What is the purpose of the `__call__` method in Python?\n",
        "- The `__call__` method in Python allows an instance of a class to be called as if it were a function. This means that you can make objects of a class behave like callable functions. When you define the `__call__` method in a class, you enable instances of that class to be invoked using parentheses, just like a function.\n",
        "- __Purpose:__\n",
        "    - __Making Objects Callable:__ Allows instances of a class to be called like a function using parentheses ().\n",
        "    - __Custom Behavior:__ Enables defining custom logic that runs when the object is called.\n",
        "    - __Dynamic Dispatch:__ Facilitates dynamic behavior changes, like handling different arguments or performing computations based on the call.\n",
        "    - __Functionality Encapsulation:__ Lets you encapsulate behavior inside an object, making the object more versatile."
      ],
      "metadata": {
        "id": "sre0igy74if5"
      }
    },
    {
      "cell_type": "markdown",
      "source": [
        "# Practical Questions\n"
      ],
      "metadata": {
        "id": "mZD_PAa24icN"
      }
    },
    {
      "cell_type": "code",
      "source": [
        "'''\n",
        "1.Create a parent class Animal with a method speak() that prints a generic message. Create a child class Dog\n",
        "that overrides the speak() method to print \"Bark!\"\n",
        "'''\n",
        "\n",
        "class Animal:\n",
        "    def speak(self):\n",
        "        print(\"Some generic sound\")\n",
        "class Dog(Animal):\n",
        "    def speak(self):\n",
        "        print(\"Bark!\")\n",
        "\n",
        "generic_animal = Animal()\n",
        "dog = Dog()\n",
        "\n",
        "generic_animal.speak()\n",
        "dog.speak()"
      ],
      "metadata": {
        "colab": {
          "base_uri": "https://localhost:8080/"
        },
        "id": "mAEg-OGrGSaJ",
        "outputId": "0974771c-45de-4dc0-9fef-1706edc215e4"
      },
      "execution_count": null,
      "outputs": [
        {
          "output_type": "stream",
          "name": "stdout",
          "text": [
            "Some generic sound\n",
            "Bark!\n"
          ]
        }
      ]
    },
    {
      "cell_type": "code",
      "source": [
        "'''\n",
        "2. Write a program to create an abstract class Shape with a method area(). Derive classes Circle and Rectangle\n",
        "from it and implement the area() method in both.\n",
        "\n",
        "'''\n",
        "from abc import ABC, abstractmethod\n",
        "import math\n",
        "\n",
        "class Shape(ABC):\n",
        "    @abstractmethod\n",
        "    def area(self):\n",
        "        pass\n",
        "\n",
        "class Circle(Shape):\n",
        "    def __init__(self, radius):\n",
        "        self.radius = radius\n",
        "\n",
        "    def area(self):\n",
        "        return math.pi * self.radius**2\n",
        "\n",
        "class Rectangle(Shape):\n",
        "    def __init__(self, width, height):\n",
        "        self.width = width\n",
        "        self.height = height\n",
        "\n",
        "    def area(self):\n",
        "        return self.width * self.height\n",
        "\n",
        "circle = Circle(5)\n",
        "print(\"Circle area:\", circle.area())\n",
        "\n",
        "rectangle = Rectangle(4, 6)\n",
        "print(\"Rectangle area:\", rectangle.area())"
      ],
      "metadata": {
        "colab": {
          "base_uri": "https://localhost:8080/"
        },
        "id": "zCjMKTN4G15D",
        "outputId": "dba69b7f-9721-4d2d-c884-cb6c5b142d72"
      },
      "execution_count": null,
      "outputs": [
        {
          "output_type": "stream",
          "name": "stdout",
          "text": [
            "Circle area: 78.53981633974483\n",
            "Rectangle area: 24\n"
          ]
        }
      ]
    },
    {
      "cell_type": "code",
      "source": [
        "'''\n",
        "3. Implement a multi-level inheritance scenario where a class Vehicle has an attribute type. Derive a class Car\n",
        "and further derive a class ElectricCar that adds a battery attribute.\n",
        "\n",
        "'''\n",
        "\n",
        "class Vehicle:\n",
        "    def __init__(self, vehicle_type):\n",
        "        self.vehicle_type = vehicle_type\n",
        "\n",
        "class Car(Vehicle):\n",
        "    def __init__(self, vehicle_type, brand, model):\n",
        "        super().__init__(vehicle_type)\n",
        "        self.brand = brand\n",
        "        self.model = model\n",
        "\n",
        "class ElectricCar(Car):\n",
        "    def __init__(self, vehicle_type, brand, model, battery_capacity):\n",
        "        super().__init__(vehicle_type, brand, model)\n",
        "        self.battery_capacity = battery_capacity\n",
        "\n",
        "#i'm using `\\n` to print all the details in new line\n",
        "    def display_info(self):\n",
        "        return (f\"Type: {self.vehicle_type},\\nBrand: {self.brand},\\nModel: {self.model}, \"\n",
        "                f\"\\nBattery Capacity: {self.battery_capacity} kWh\")\n",
        "\n",
        "electric_car = ElectricCar(\"Electric\", \"Tesla\", \"Model S\", 100)\n",
        "\n",
        "print(electric_car.display_info())"
      ],
      "metadata": {
        "colab": {
          "base_uri": "https://localhost:8080/"
        },
        "id": "Z3FuXhoSHmcr",
        "outputId": "655c1052-9488-4990-c885-36ce6f6fafe8"
      },
      "execution_count": null,
      "outputs": [
        {
          "output_type": "stream",
          "name": "stdout",
          "text": [
            "Type: Electric,\n",
            "Brand: Tesla,\n",
            "Model: Model S, \n",
            "Battery Capacity: 100 kWh\n"
          ]
        }
      ]
    },
    {
      "cell_type": "code",
      "source": [
        "'''\n",
        "4. Demonstrate polymorphism by creating a base class Bird with a method fly(). Create two derived classes\n",
        "Sparrow and Penguin that override the fly() method.\n",
        "'''\n",
        "# Base class Bird\n",
        "class Bird:\n",
        "    def fly(self):\n",
        "        print(\"I am Bird .\")\n",
        "\n",
        "# Derived class Sparrow\n",
        "class Sparrow(Bird):\n",
        "    def fly(self):\n",
        "        print(\"I am Sparrow!\")\n",
        "\n",
        "# Derived class Penguin\n",
        "class Penguin(Bird):\n",
        "    def fly(self):\n",
        "        print(\"I am Penguin.\")\n",
        "\n",
        "# Demonstrating Polymorphism\n",
        "def make_bird_fly(bird):\n",
        "    bird.fly()\n",
        "\n",
        "# Create objects of Sparrow and Penguin\n",
        "sparrow = Sparrow()\n",
        "penguin = Penguin()\n",
        "\n",
        "# Pass objects to make_bird_fly to demonstrate polymorphism\n",
        "make_bird_fly(sparrow)\n",
        "make_bird_fly(penguin)\n"
      ],
      "metadata": {
        "colab": {
          "base_uri": "https://localhost:8080/"
        },
        "id": "5NSeU1qtITpk",
        "outputId": "687bb023-9e32-4288-a8f5-29d586305665"
      },
      "execution_count": null,
      "outputs": [
        {
          "output_type": "stream",
          "name": "stdout",
          "text": [
            "I am Sparrow!\n",
            "I am Penguin.\n"
          ]
        }
      ]
    },
    {
      "cell_type": "code",
      "source": [
        "'''\n",
        "5. Write a program to demonstrate encapsulation by creating a class BankAccount with private attributes\n",
        "balance and methods to deposit, withdraw, and check balance.\n",
        "\n",
        "'''\n",
        "\n",
        "class BankAccount:\n",
        "    def __init__(self, initial_balance=0):\n",
        "        self.__balance = initial_balance\n",
        "\n",
        "    def deposit(self, amount):\n",
        "        if amount > 0:\n",
        "            self.__balance += amount\n",
        "            print(f\"Deposited ₹{amount} to your account no. xxxx69 successfully!!. \\nNew balance: ₹{self.__balance}\")\n",
        "        else:\n",
        "            print(\"Invalid deposit amount.\")\n",
        "\n",
        "    def withdraw(self, amount):\n",
        "        if 0 < amount <= self.__balance:\n",
        "            self.__balance -= amount\n",
        "            print(f\"Withdrew ₹{amount} from your account no. xxxx69 successfully!!. \\nNew balance is: ₹{self.__balance}\")\n",
        "        else:\n",
        "            print(f\"Sorry !! Invalid withdrawal amount or insufficient funds. Your Current balance is ₹{self.__balance}\")\n",
        "\n",
        "    def check_balance(self):\n",
        "        print(f\"Current balance is : ₹{self.__balance}\")\n",
        "\n",
        "account = BankAccount(1000)\n",
        "account.deposit(2000)\n",
        "account.withdraw(2500)\n",
        "#i'm writing another withdraw in case of insufficient balance\n",
        "account.withdraw(2000)"
      ],
      "metadata": {
        "colab": {
          "base_uri": "https://localhost:8080/"
        },
        "id": "CioHaOAeJj-m",
        "outputId": "accdcdcd-5c8e-4cf7-b367-01b78d4d5019"
      },
      "execution_count": null,
      "outputs": [
        {
          "output_type": "stream",
          "name": "stdout",
          "text": [
            "Deposited ₹2000 to your account no. xxxx69 successfully!!. \n",
            "New balance: ₹3000\n",
            "Withdrew ₹2500 from your account no. xxxx69 successfully!!. \n",
            "New balance is: ₹500\n",
            "Sorry !! Invalid withdrawal amount or insufficient funds. Your Current balance is ₹500\n"
          ]
        }
      ]
    },
    {
      "cell_type": "code",
      "source": [
        "'''\n",
        "6. Demonstrate runtime polymorphism using a method play() in a base class Instrument. Derive classes Guitar\n",
        "and Piano that implement their own version of play().\n",
        "\n",
        "'''\n",
        "# Base class Instrument\n",
        "class Instrument:\n",
        "    def play(self):\n",
        "        print(\"Playing the instrument.\")\n",
        "\n",
        "# Derived class Guitar\n",
        "class Guitar(Instrument):\n",
        "    def play(self):\n",
        "        print(\"Playing the guitar: Strum strum!\")\n",
        "\n",
        "# Derived class Piano\n",
        "class Piano(Instrument):\n",
        "    def play(self):\n",
        "        print(\"Playing the piano: Ding ding!\")\n",
        "\n",
        "# Function to demonstrate polymorphism\n",
        "def perform_play(instrument):\n",
        "    instrument.play()\n",
        "\n",
        "# Creating objects of Guitar and Piano\n",
        "guitar = Guitar()\n",
        "piano = Piano()\n",
        "\n",
        "# Demonstrating runtime polymorphism\n",
        "perform_play(guitar)  # Output: Playing the guitar: Strum strum!\n",
        "perform_play(piano)   # Output: Playing the piano: Ding ding!\n"
      ],
      "metadata": {
        "colab": {
          "base_uri": "https://localhost:8080/"
        },
        "id": "UDEeBL_VKQ1D",
        "outputId": "10d41902-46c9-4492-cd14-fe83ceaa4bdc"
      },
      "execution_count": null,
      "outputs": [
        {
          "output_type": "stream",
          "name": "stdout",
          "text": [
            "Playing the guitar: Strum strum!\n",
            "Playing the piano: Ding ding!\n"
          ]
        }
      ]
    },
    {
      "cell_type": "code",
      "source": [
        "'''\n",
        "7. Create a class MathOperations with a class method add_numbers() to add two numbers and a static\n",
        "method subtract_numbers() to subtract two numbers.\n",
        "\n",
        "'''\n",
        "class MathOperations:\n",
        "    @classmethod\n",
        "    def add_numbers(cls, a, b):\n",
        "        return a + b\n",
        "\n",
        "    @staticmethod\n",
        "    def subtract_numbers(a, b):\n",
        "        return a - b\n",
        "\n",
        "# Example usage\n",
        "result_add = MathOperations.add_numbers(50, 10)\n",
        "result_subtract = MathOperations.subtract_numbers(30, 10)\n",
        "\n",
        "print(f\"Addition result: {result_add}\")\n",
        "print(f\"Subtraction result: {result_subtract}\")"
      ],
      "metadata": {
        "colab": {
          "base_uri": "https://localhost:8080/"
        },
        "id": "NfXhJcvILcL8",
        "outputId": "80e3460f-59da-472a-b088-5eb8a96bd0f1"
      },
      "execution_count": null,
      "outputs": [
        {
          "output_type": "stream",
          "name": "stdout",
          "text": [
            "Addition result: 60\n",
            "Subtraction result: 20\n"
          ]
        }
      ]
    },
    {
      "cell_type": "code",
      "source": [
        "'''\n",
        "8. Implement a class Person with a class method to count the total number of persons created.\n",
        "\n",
        "'''\n",
        "\n",
        "class Person:\n",
        "    count = 0\n",
        "    def __init__(self, name,age ):\n",
        "        self.name = name\n",
        "        self.age = age\n",
        "        Person.count += 1\n",
        "\n",
        "    @classmethod\n",
        "    def total_persons(cls):\n",
        "        return cls.count\n",
        "\n",
        "person1 = Person(\"Aladin\", 31)\n",
        "person2 = Person(\"Mahesh\", 35)\n",
        "person3 = Person(\"Ningu\", 42)\n",
        "person4 = Person(\"Raju\", 40)\n",
        "person5 = Person(\"Hanuman\", 150)\n",
        "\n",
        "print(\"Total number of persons:\", Person.total_persons())"
      ],
      "metadata": {
        "colab": {
          "base_uri": "https://localhost:8080/"
        },
        "id": "Dz2W1nUrL6ri",
        "outputId": "214b985e-8c98-4072-a59a-e9af4a0e429c"
      },
      "execution_count": null,
      "outputs": [
        {
          "output_type": "stream",
          "name": "stdout",
          "text": [
            "Total number of persons: 5\n"
          ]
        }
      ]
    },
    {
      "cell_type": "code",
      "source": [
        "'''\n",
        "Q9. Write a class Fraction with attributes numerator and denominator. Override the str method to display the\n",
        "fraction as \"numerator/denominator\".\n",
        "\n",
        "'''\n",
        "\n",
        "class Fraction:\n",
        "    def __init__(self, numerator, denominator):\n",
        "        self.numerator = numerator\n",
        "        self.denominator = denominator\n",
        "\n",
        "    def __str__(self):\n",
        "        return f\"{self.numerator}/{self.denominator}\"\n",
        "\n",
        "fraction = Fraction(7, 5)\n",
        "print(fraction)"
      ],
      "metadata": {
        "colab": {
          "base_uri": "https://localhost:8080/"
        },
        "id": "rR3Zmo2uNFrl",
        "outputId": "58cc7feb-3151-4c0b-86bb-fc9baa9bc929"
      },
      "execution_count": null,
      "outputs": [
        {
          "output_type": "stream",
          "name": "stdout",
          "text": [
            "7/5\n"
          ]
        }
      ]
    },
    {
      "cell_type": "code",
      "source": [
        "'''\n",
        "10. Demonstrate operator overloading by creating a class Vector and overriding the add method to add two\n",
        "vectors.\n",
        "\n",
        "'''\n",
        "\n",
        "class Vector:\n",
        "    def __init__(self, x, y):\n",
        "        self.x = x\n",
        "        self.y = y\n",
        "\n",
        "    def __add__(self, other):\n",
        "        return Vector(self.x + other.x, self.y + other.y)\n",
        "\n",
        "    def __str__(self):\n",
        "        return f\"({self.x}, {self.y})\"\n",
        "\n",
        "v1 = Vector(4, 8)\n",
        "v2 = Vector(6, 3)\n",
        "v3 = v1 + v2\n",
        "print(v3)"
      ],
      "metadata": {
        "colab": {
          "base_uri": "https://localhost:8080/"
        },
        "id": "5NO2d7sBNb9j",
        "outputId": "da4beac2-53fc-473e-ebcf-c84903fccb89"
      },
      "execution_count": null,
      "outputs": [
        {
          "output_type": "stream",
          "name": "stdout",
          "text": [
            "(10, 11)\n"
          ]
        }
      ]
    },
    {
      "cell_type": "code",
      "source": [
        "'''\n",
        "11. Create a class Person with attributes name and age. Add a method greet() that prints \"Hello, my name is\n",
        "{name} and I am {age} years old.\"\n",
        "\n",
        "'''\n",
        "\n",
        "class Person:\n",
        "    def __init__(self, name, age):\n",
        "        self.name = name\n",
        "        self.age = age\n",
        "\n",
        "    def greet(self):\n",
        "        print(f\"Hello, my name is {self.name} and I am {self.age} years old.\")\n",
        "\n",
        "person = Person(\"Aladin\", 31)\n",
        "person.greet()\n"
      ],
      "metadata": {
        "colab": {
          "base_uri": "https://localhost:8080/"
        },
        "id": "Wd9-8__aOVAf",
        "outputId": "47c0eb86-bf66-4664-f3ad-3d9c6bb904c0"
      },
      "execution_count": null,
      "outputs": [
        {
          "output_type": "stream",
          "name": "stdout",
          "text": [
            "Hello, my name is Aladin and I am 31 years old.\n"
          ]
        }
      ]
    },
    {
      "cell_type": "code",
      "source": [
        "'''\n",
        "12. Implement a class Student with attributes name and grades. Create a method average_grade() to compute\n",
        "the average of the grades.\n",
        "\n",
        "'''\n",
        "\n",
        "class Student:\n",
        "    def __init__(self, name, grades):\n",
        "        self.name = name\n",
        "        self.grades = grades\n",
        "\n",
        "    def average_grade(self):\n",
        "        if not self.grades:\n",
        "            return 0\n",
        "        return sum(self.grades) / len(self.grades)\n",
        "\n",
        "student = Student(\"Aladin\", [90, 85, 68, 86, 59])\n",
        "print(\"The average grade of\",student.name, \"is:\", student.average_grade())"
      ],
      "metadata": {
        "colab": {
          "base_uri": "https://localhost:8080/"
        },
        "id": "4rfGVHDBOk2A",
        "outputId": "4599efca-7dee-41aa-a99f-e1791ab2f991"
      },
      "execution_count": null,
      "outputs": [
        {
          "output_type": "stream",
          "name": "stdout",
          "text": [
            "The average grade of Aladin is: 77.6\n"
          ]
        }
      ]
    },
    {
      "cell_type": "code",
      "source": [
        "'''\n",
        "13. Create a class Rectangle with methods set_dimensions() to set the dimensions and area() to calculate the\n",
        "area.\n",
        "\n",
        "'''\n",
        "\n",
        "class Rectangle:\n",
        "    def __init__(self):\n",
        "        self.width = 0\n",
        "        self.height = 0\n",
        "\n",
        "    def set_dimensions(self, width, height):\n",
        "        self.width = width\n",
        "        self.height = height\n",
        "\n",
        "    def area(self):\n",
        "        return self.width * self.height\n",
        "\n",
        "# Example usage\n",
        "rectangle = Rectangle()\n",
        "rectangle.set_dimensions(20, 10)\n",
        "print(f\"Area of the rectangle is : {rectangle.area()}\")"
      ],
      "metadata": {
        "colab": {
          "base_uri": "https://localhost:8080/"
        },
        "id": "JkRj_sQVO-5_",
        "outputId": "439bf213-0c6a-47ad-f693-24cb16ed1cd6"
      },
      "execution_count": null,
      "outputs": [
        {
          "output_type": "stream",
          "name": "stdout",
          "text": [
            "Area of the rectangle is : 200\n"
          ]
        }
      ]
    },
    {
      "cell_type": "code",
      "source": [
        "'''\n",
        "14. Create a class Employee with a method calculate_salary() that computes the salary based on hours worked\n",
        "and hourly rate. Create a derived class Manager that adds a bonus to the salary.\n",
        "\n",
        "'''\n",
        "\n",
        "class Employee:\n",
        "    def __init__(self, name, hours_worked, hourly_rate):\n",
        "        self.name = name\n",
        "        self.hours_worked = hours_worked\n",
        "        self.hourly_rate = hourly_rate\n",
        "\n",
        "    def calculate_salary(self):\n",
        "        return self.hours_worked * self.hourly_rate\n",
        "\n",
        "class Manager(Employee):\n",
        "    def __init__(self, name, hours_worked, hourly_rate, bonus):\n",
        "        super().__init__(name, hours_worked, hourly_rate)\n",
        "        self.bonus = bonus\n",
        "\n",
        "    def calculate_salary(self):\n",
        "        return super().calculate_salary() + self.bonus\n",
        "\n",
        "employee = Employee(\"Sagar\", 40, 20)\n",
        "print(\"Employee Salary:\", employee.calculate_salary())\n",
        "print()\n",
        "manager = Manager(\"Sateesh\", 40, 30, 500)\n",
        "print(\"Manager Salary:\", manager.calculate_salary())"
      ],
      "metadata": {
        "colab": {
          "base_uri": "https://localhost:8080/"
        },
        "id": "VSlepcN7PTkW",
        "outputId": "89353b53-f53a-4c70-f392-db22d718dabc"
      },
      "execution_count": null,
      "outputs": [
        {
          "output_type": "stream",
          "name": "stdout",
          "text": [
            "Employee Salary: 800\n",
            "\n",
            "Manager Salary: 1700\n"
          ]
        }
      ]
    },
    {
      "cell_type": "code",
      "source": [
        "'''\n",
        "15. Create a class Product with attributes name, price, and quantity. Implement a method total_price() that\n",
        "calculates the total price of the product.\n",
        "\n",
        "'''\n",
        "\n",
        "class Product:\n",
        "    def __init__(self, name, price, quantity):\n",
        "        self.name = name\n",
        "        self.price = price\n",
        "        self.quantity = quantity\n",
        "\n",
        "    def total_price(self):\n",
        "        return self.price * self.quantity\n",
        "\n",
        "product = Product(\"Cellphone\", 60000, 2)\n",
        "\n",
        "print(f\"Product Name: {product.name}\")\n",
        "print(f\"Product Quantity : {product.quantity}\")\n",
        "print(f\"Total Price: {product.total_price()}\")\n"
      ],
      "metadata": {
        "colab": {
          "base_uri": "https://localhost:8080/"
        },
        "id": "BmG6oDsMQK9P",
        "outputId": "9ae3e889-44d0-4270-ce63-d1e3262be9b5"
      },
      "execution_count": null,
      "outputs": [
        {
          "output_type": "stream",
          "name": "stdout",
          "text": [
            "Product Name: Cellphone\n",
            "Product Quantity : 2\n",
            "Total Price: 120000\n"
          ]
        }
      ]
    },
    {
      "cell_type": "code",
      "source": [
        "'''\n",
        "16. Create a class Animal with an abstract method sound(). Create two derived classes Cow and Sheep that\n",
        "implement the sound() method.\n",
        "\n",
        "'''\n",
        "\n",
        "from abc import ABC, abstractmethod\n",
        "\n",
        "class Animal(ABC):\n",
        "    @abstractmethod\n",
        "    def sound(self):\n",
        "        pass\n",
        "\n",
        "class Cow(Animal):\n",
        "    def sound(self):\n",
        "        return \"Moooo\"\n",
        "\n",
        "class Sheep(Animal):\n",
        "    def sound(self):\n",
        "        return \"Baaaa\"\n",
        "\n",
        "# Example usage\n",
        "cow = Cow()\n",
        "sheep = Sheep()\n",
        "\n",
        "print(f\"Cow sound: {cow.sound()}\")\n",
        "print(f\"Sheep sound: {sheep.sound()}\")"
      ],
      "metadata": {
        "colab": {
          "base_uri": "https://localhost:8080/"
        },
        "id": "XN1X5IGVRlCa",
        "outputId": "d8d08c27-5435-4e70-e47b-a5c62f26d154"
      },
      "execution_count": null,
      "outputs": [
        {
          "output_type": "stream",
          "name": "stdout",
          "text": [
            "Cow sound: Moooo\n",
            "Sheep sound: Baaaa\n"
          ]
        }
      ]
    },
    {
      "cell_type": "code",
      "source": [
        "'''\n",
        "17. Create a class Book with attributes title, author, and year_published. Add a method get_book_info() that\n",
        "returns a formatted string with the book's details.\n",
        "\n",
        "'''\n",
        "\n",
        "class Book:\n",
        "    def __init__(self, title: str, author: str, year_published: int):\n",
        "        self.title = title\n",
        "        self.author = author\n",
        "        self.year_published = year_published\n",
        "\n",
        "    def get_book_info(self) -> str:\n",
        "        return f\"Title: {self.title},\\nAuthor: {self.author}, \\nYear Published: {self.year_published}\"\n",
        "\n",
        "book = Book(\"Wings of Fire\", \"A P J Abdul Kalam\", 1999)\n",
        "\n",
        "print(book.get_book_info())"
      ],
      "metadata": {
        "colab": {
          "base_uri": "https://localhost:8080/"
        },
        "id": "pjQyLwRSSEZT",
        "outputId": "8fc79735-35e4-4d4d-96ac-1ffcc1b706df"
      },
      "execution_count": null,
      "outputs": [
        {
          "output_type": "stream",
          "name": "stdout",
          "text": [
            "Title: Wings of Fire,\n",
            "Author: A P J Abdul Kalam, \n",
            "Year Published: 1999\n"
          ]
        }
      ]
    },
    {
      "cell_type": "code",
      "source": [
        "'''\n",
        "18. Create a class House with attributes address and price. Create a derived class Mansion that adds an\n",
        "attribute number_of_rooms.\n",
        "\n",
        "'''\n",
        "\n",
        "class House:\n",
        "    def __init__(self, address, price):\n",
        "        self.address = address\n",
        "        self.price = price\n",
        "\n",
        "class Mansion(House):\n",
        "    def __init__(self, address, price, number_of_rooms):\n",
        "        super().__init__(address, price)\n",
        "        self.number_of_rooms = number_of_rooms\n",
        "\n",
        "# Example usage\n",
        "house = House(\"Taj Nagar\", 4000000)\n",
        "mansion = Mansion(\"Gandhi Nagar\", 50000000, 10)\n",
        "\n",
        "print(f\"House address: {house.address}, price: ₹{house.price}\")\n",
        "print(f\"Mansion address: {mansion.address}, price: ₹{mansion.price}, number of rooms: {mansion.number_of_rooms}\")"
      ],
      "metadata": {
        "colab": {
          "base_uri": "https://localhost:8080/"
        },
        "id": "I6GTBeQtSzbA",
        "outputId": "3e8022a0-eacd-4f4c-a475-68bc5e45e0a3"
      },
      "execution_count": null,
      "outputs": [
        {
          "output_type": "stream",
          "name": "stdout",
          "text": [
            "House address: Taj Nagar, price: ₹4000000\n",
            "Mansion address: Gandhi Nagar, price: ₹50000000, number of rooms: 10\n"
          ]
        }
      ]
    },
    {
      "cell_type": "markdown",
      "source": [
        "\n",
        "\n",
        "---\n",
        "\n"
      ],
      "metadata": {
        "id": "fjrJAA8a4iYq"
      }
    }
  ]
}